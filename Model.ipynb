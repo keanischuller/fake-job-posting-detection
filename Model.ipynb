{
  "cells": [
    {
      "cell_type": "markdown",
      "id": "O9PQcRgsArcG",
      "metadata": {
        "id": "O9PQcRgsArcG"
      },
      "source": [
        "### Load Libraries"
      ]
    },
    {
      "cell_type": "code",
      "execution_count": null,
      "id": "a667fd3d",
      "metadata": {
        "id": "a667fd3d"
      },
      "outputs": [],
      "source": [
        "import pandas as pd\n",
        "import matplotlib.pyplot as plt\n",
        "import seaborn as sns\n",
        "import re\n",
        "# Load data from CSV file in Google Drive\n",
        "df = pd.read_csv(\"fake_job_postings.csv\")"
      ]
    },
    {
      "cell_type": "markdown",
      "id": "PhBbIvnhAoAR",
      "metadata": {
        "id": "PhBbIvnhAoAR"
      },
      "source": [
        "### Pre-Processing"
      ]
    },
    {
      "cell_type": "code",
      "execution_count": null,
      "id": "9fa5c2a7",
      "metadata": {
        "id": "9fa5c2a7",
        "outputId": "ae73c0e1-4416-4e76-b50b-0deb9281b874"
      },
      "outputs": [
        {
          "data": {
            "text/html": [
              "<div>\n",
              "<style scoped>\n",
              "    .dataframe tbody tr th:only-of-type {\n",
              "        vertical-align: middle;\n",
              "    }\n",
              "\n",
              "    .dataframe tbody tr th {\n",
              "        vertical-align: top;\n",
              "    }\n",
              "\n",
              "    .dataframe thead th {\n",
              "        text-align: right;\n",
              "    }\n",
              "</style>\n",
              "<table border=\"1\" class=\"dataframe\">\n",
              "  <thead>\n",
              "    <tr style=\"text-align: right;\">\n",
              "      <th></th>\n",
              "      <th>job_id</th>\n",
              "      <th>title</th>\n",
              "      <th>location</th>\n",
              "      <th>department</th>\n",
              "      <th>salary_range</th>\n",
              "      <th>company_profile</th>\n",
              "      <th>description</th>\n",
              "      <th>requirements</th>\n",
              "      <th>benefits</th>\n",
              "      <th>telecommuting</th>\n",
              "      <th>has_company_logo</th>\n",
              "      <th>has_questions</th>\n",
              "      <th>employment_type</th>\n",
              "      <th>required_experience</th>\n",
              "      <th>required_education</th>\n",
              "      <th>industry</th>\n",
              "      <th>function</th>\n",
              "      <th>fraudulent</th>\n",
              "    </tr>\n",
              "  </thead>\n",
              "  <tbody>\n",
              "    <tr>\n",
              "      <th>0</th>\n",
              "      <td>1</td>\n",
              "      <td>Marketing Intern</td>\n",
              "      <td>US, NY, New York</td>\n",
              "      <td>Marketing</td>\n",
              "      <td>NaN</td>\n",
              "      <td>We're Food52, and we've created a groundbreaki...</td>\n",
              "      <td>Food52, a fast-growing, James Beard Award-winn...</td>\n",
              "      <td>Experience with content management systems a m...</td>\n",
              "      <td>NaN</td>\n",
              "      <td>0</td>\n",
              "      <td>1</td>\n",
              "      <td>0</td>\n",
              "      <td>Other</td>\n",
              "      <td>Internship</td>\n",
              "      <td>NaN</td>\n",
              "      <td>NaN</td>\n",
              "      <td>Marketing</td>\n",
              "      <td>0</td>\n",
              "    </tr>\n",
              "    <tr>\n",
              "      <th>1</th>\n",
              "      <td>2</td>\n",
              "      <td>Customer Service - Cloud Video Production</td>\n",
              "      <td>NZ, , Auckland</td>\n",
              "      <td>Success</td>\n",
              "      <td>NaN</td>\n",
              "      <td>90 Seconds, the worlds Cloud Video Production ...</td>\n",
              "      <td>Organised - Focused - Vibrant - Awesome!Do you...</td>\n",
              "      <td>What we expect from you:Your key responsibilit...</td>\n",
              "      <td>What you will get from usThrough being part of...</td>\n",
              "      <td>0</td>\n",
              "      <td>1</td>\n",
              "      <td>0</td>\n",
              "      <td>Full-time</td>\n",
              "      <td>Not Applicable</td>\n",
              "      <td>NaN</td>\n",
              "      <td>Marketing and Advertising</td>\n",
              "      <td>Customer Service</td>\n",
              "      <td>0</td>\n",
              "    </tr>\n",
              "    <tr>\n",
              "      <th>2</th>\n",
              "      <td>3</td>\n",
              "      <td>Commissioning Machinery Assistant (CMA)</td>\n",
              "      <td>US, IA, Wever</td>\n",
              "      <td>NaN</td>\n",
              "      <td>NaN</td>\n",
              "      <td>Valor Services provides Workforce Solutions th...</td>\n",
              "      <td>Our client, located in Houston, is actively se...</td>\n",
              "      <td>Implement pre-commissioning and commissioning ...</td>\n",
              "      <td>NaN</td>\n",
              "      <td>0</td>\n",
              "      <td>1</td>\n",
              "      <td>0</td>\n",
              "      <td>NaN</td>\n",
              "      <td>NaN</td>\n",
              "      <td>NaN</td>\n",
              "      <td>NaN</td>\n",
              "      <td>NaN</td>\n",
              "      <td>0</td>\n",
              "    </tr>\n",
              "    <tr>\n",
              "      <th>3</th>\n",
              "      <td>4</td>\n",
              "      <td>Account Executive - Washington DC</td>\n",
              "      <td>US, DC, Washington</td>\n",
              "      <td>Sales</td>\n",
              "      <td>NaN</td>\n",
              "      <td>Our passion for improving quality of life thro...</td>\n",
              "      <td>THE COMPANY: ESRI – Environmental Systems Rese...</td>\n",
              "      <td>EDUCATION: Bachelor’s or Master’s in GIS, busi...</td>\n",
              "      <td>Our culture is anything but corporate—we have ...</td>\n",
              "      <td>0</td>\n",
              "      <td>1</td>\n",
              "      <td>0</td>\n",
              "      <td>Full-time</td>\n",
              "      <td>Mid-Senior level</td>\n",
              "      <td>Bachelor's Degree</td>\n",
              "      <td>Computer Software</td>\n",
              "      <td>Sales</td>\n",
              "      <td>0</td>\n",
              "    </tr>\n",
              "    <tr>\n",
              "      <th>4</th>\n",
              "      <td>5</td>\n",
              "      <td>Bill Review Manager</td>\n",
              "      <td>US, FL, Fort Worth</td>\n",
              "      <td>NaN</td>\n",
              "      <td>NaN</td>\n",
              "      <td>SpotSource Solutions LLC is a Global Human Cap...</td>\n",
              "      <td>JOB TITLE: Itemization Review ManagerLOCATION:...</td>\n",
              "      <td>QUALIFICATIONS:RN license in the State of Texa...</td>\n",
              "      <td>Full Benefits Offered</td>\n",
              "      <td>0</td>\n",
              "      <td>1</td>\n",
              "      <td>1</td>\n",
              "      <td>Full-time</td>\n",
              "      <td>Mid-Senior level</td>\n",
              "      <td>Bachelor's Degree</td>\n",
              "      <td>Hospital &amp; Health Care</td>\n",
              "      <td>Health Care Provider</td>\n",
              "      <td>0</td>\n",
              "    </tr>\n",
              "  </tbody>\n",
              "</table>\n",
              "</div>"
            ],
            "text/plain": [
              "   job_id                                      title            location  \\\n",
              "0       1                           Marketing Intern    US, NY, New York   \n",
              "1       2  Customer Service - Cloud Video Production      NZ, , Auckland   \n",
              "2       3    Commissioning Machinery Assistant (CMA)       US, IA, Wever   \n",
              "3       4          Account Executive - Washington DC  US, DC, Washington   \n",
              "4       5                        Bill Review Manager  US, FL, Fort Worth   \n",
              "\n",
              "  department salary_range                                    company_profile  \\\n",
              "0  Marketing          NaN  We're Food52, and we've created a groundbreaki...   \n",
              "1    Success          NaN  90 Seconds, the worlds Cloud Video Production ...   \n",
              "2        NaN          NaN  Valor Services provides Workforce Solutions th...   \n",
              "3      Sales          NaN  Our passion for improving quality of life thro...   \n",
              "4        NaN          NaN  SpotSource Solutions LLC is a Global Human Cap...   \n",
              "\n",
              "                                         description  \\\n",
              "0  Food52, a fast-growing, James Beard Award-winn...   \n",
              "1  Organised - Focused - Vibrant - Awesome!Do you...   \n",
              "2  Our client, located in Houston, is actively se...   \n",
              "3  THE COMPANY: ESRI – Environmental Systems Rese...   \n",
              "4  JOB TITLE: Itemization Review ManagerLOCATION:...   \n",
              "\n",
              "                                        requirements  \\\n",
              "0  Experience with content management systems a m...   \n",
              "1  What we expect from you:Your key responsibilit...   \n",
              "2  Implement pre-commissioning and commissioning ...   \n",
              "3  EDUCATION: Bachelor’s or Master’s in GIS, busi...   \n",
              "4  QUALIFICATIONS:RN license in the State of Texa...   \n",
              "\n",
              "                                            benefits  telecommuting  \\\n",
              "0                                                NaN              0   \n",
              "1  What you will get from usThrough being part of...              0   \n",
              "2                                                NaN              0   \n",
              "3  Our culture is anything but corporate—we have ...              0   \n",
              "4                              Full Benefits Offered              0   \n",
              "\n",
              "   has_company_logo  has_questions employment_type required_experience  \\\n",
              "0                 1              0           Other          Internship   \n",
              "1                 1              0       Full-time      Not Applicable   \n",
              "2                 1              0             NaN                 NaN   \n",
              "3                 1              0       Full-time    Mid-Senior level   \n",
              "4                 1              1       Full-time    Mid-Senior level   \n",
              "\n",
              "  required_education                   industry              function  \\\n",
              "0                NaN                        NaN             Marketing   \n",
              "1                NaN  Marketing and Advertising      Customer Service   \n",
              "2                NaN                        NaN                   NaN   \n",
              "3  Bachelor's Degree          Computer Software                 Sales   \n",
              "4  Bachelor's Degree     Hospital & Health Care  Health Care Provider   \n",
              "\n",
              "   fraudulent  \n",
              "0           0  \n",
              "1           0  \n",
              "2           0  \n",
              "3           0  \n",
              "4           0  "
            ]
          },
          "execution_count": 3,
          "metadata": {},
          "output_type": "execute_result"
        }
      ],
      "source": [
        "df.head()"
      ]
    },
    {
      "cell_type": "code",
      "execution_count": null,
      "id": "f9310492",
      "metadata": {
        "id": "f9310492",
        "outputId": "3a95ca8f-4969-47e4-83e2-26b2caddb5a7"
      },
      "outputs": [
        {
          "name": "stdout",
          "output_type": "stream",
          "text": [
            "<class 'pandas.core.frame.DataFrame'>\n",
            "RangeIndex: 17880 entries, 0 to 17879\n",
            "Data columns (total 18 columns):\n",
            " #   Column               Non-Null Count  Dtype \n",
            "---  ------               --------------  ----- \n",
            " 0   job_id               17880 non-null  int64 \n",
            " 1   title                17880 non-null  object\n",
            " 2   location             17534 non-null  object\n",
            " 3   department           6333 non-null   object\n",
            " 4   salary_range         2868 non-null   object\n",
            " 5   company_profile      14572 non-null  object\n",
            " 6   description          17879 non-null  object\n",
            " 7   requirements         15184 non-null  object\n",
            " 8   benefits             10668 non-null  object\n",
            " 9   telecommuting        17880 non-null  int64 \n",
            " 10  has_company_logo     17880 non-null  int64 \n",
            " 11  has_questions        17880 non-null  int64 \n",
            " 12  employment_type      14409 non-null  object\n",
            " 13  required_experience  10830 non-null  object\n",
            " 14  required_education   9775 non-null   object\n",
            " 15  industry             12977 non-null  object\n",
            " 16  function             11425 non-null  object\n",
            " 17  fraudulent           17880 non-null  int64 \n",
            "dtypes: int64(5), object(13)\n",
            "memory usage: 2.5+ MB\n",
            "None\n"
          ]
        }
      ],
      "source": [
        "# Understanding the dataset\n",
        "print(df.info())"
      ]
    },
    {
      "cell_type": "code",
      "execution_count": null,
      "id": "daf44c57",
      "metadata": {
        "colab": {
          "base_uri": "https://localhost:8080/"
        },
        "id": "daf44c57",
        "outputId": "c0c4821a-c121-44e0-81b9-41762aa56168"
      },
      "outputs": [
        {
          "data": {
            "text/plain": [
              "job_id                     0\n",
              "title                      0\n",
              "location                 346\n",
              "department             11547\n",
              "salary_range           15012\n",
              "company_profile         3308\n",
              "description                1\n",
              "requirements            2696\n",
              "benefits                7212\n",
              "telecommuting              0\n",
              "has_company_logo           0\n",
              "has_questions              0\n",
              "employment_type         3471\n",
              "required_experience     7050\n",
              "required_education      8105\n",
              "industry                4903\n",
              "function                6455\n",
              "fraudulent                 0\n",
              "dtype: int64"
            ]
          },
          "execution_count": 5,
          "metadata": {},
          "output_type": "execute_result"
        }
      ],
      "source": [
        "# Check for missing values\n",
        "missing_values = df.isnull().sum()\n",
        "missing_values"
      ]
    },
    {
      "cell_type": "code",
      "execution_count": null,
      "id": "H6JY8gQoA7KL",
      "metadata": {
        "colab": {
          "base_uri": "https://localhost:8080/"
        },
        "id": "H6JY8gQoA7KL",
        "outputId": "03ad6740-e293-49b6-d924-5ea74d8a9afc"
      },
      "outputs": [
        {
          "data": {
            "text/plain": [
              "2093"
            ]
          },
          "execution_count": 2,
          "metadata": {},
          "output_type": "execute_result"
        }
      ],
      "source": [
        "# Check for duplicates based on 'description' and 'title'\n",
        "duplicate_rows = df.duplicated(subset=['description', 'title'], keep='first').sum()\n",
        "\n",
        "duplicate_rows"
      ]
    },
    {
      "cell_type": "code",
      "execution_count": null,
      "id": "Ro90cFO1BGqM",
      "metadata": {
        "id": "Ro90cFO1BGqM"
      },
      "outputs": [],
      "source": [
        "# Remove duplicate rows\n",
        "df = df.drop_duplicates(subset=['description', 'title'], keep='first')"
      ]
    },
    {
      "cell_type": "code",
      "execution_count": null,
      "id": "9306d36f",
      "metadata": {
        "id": "9306d36f"
      },
      "outputs": [],
      "source": [
        "df.fillna(\" \",inplace = True)"
      ]
    },
    {
      "cell_type": "code",
      "execution_count": null,
      "id": "79ee58ad",
      "metadata": {
        "id": "79ee58ad"
      },
      "outputs": [],
      "source": [
        "df2 = df.copy()\n",
        "\n",
        "columns_to_drop = df2.select_dtypes(include=[object]).columns\n",
        "\n",
        "df2.drop(columns=columns_to_drop, inplace=True)\n",
        "\n",
        "df2['text'] = df.select_dtypes(include=[object]).agg(' '.join, axis=1)"
      ]
    },
    {
      "cell_type": "code",
      "execution_count": null,
      "id": "a16e2c39",
      "metadata": {
        "id": "a16e2c39"
      },
      "outputs": [],
      "source": [
        "df2.head()"
      ]
    },
    {
      "cell_type": "markdown",
      "id": "s6kZl9kzMfCj",
      "metadata": {
        "id": "s6kZl9kzMfCj"
      },
      "source": [
        "### Model Experiment\n"
      ]
    },
    {
      "cell_type": "code",
      "execution_count": null,
      "id": "5ed65c86",
      "metadata": {
        "id": "5ed65c86",
        "outputId": "5abd948d-128d-4997-e7e7-a226c6a91907"
      },
      "outputs": [
        {
          "name": "stderr",
          "output_type": "stream",
          "text": [
            "[nltk_data] Downloading package punkt to\n",
            "[nltk_data]     C:\\Users\\csg20\\AppData\\Roaming\\nltk_data...\n",
            "[nltk_data]   Package punkt is already up-to-date!\n",
            "[nltk_data] Downloading package wordnet to\n",
            "[nltk_data]     C:\\Users\\csg20\\AppData\\Roaming\\nltk_data...\n",
            "[nltk_data]   Package wordnet is already up-to-date!\n",
            "[nltk_data] Downloading package stopwords to\n",
            "[nltk_data]     C:\\Users\\csg20\\AppData\\Roaming\\nltk_data...\n",
            "[nltk_data]   Package stopwords is already up-to-date!\n"
          ]
        },
        {
          "data": {
            "text/plain": [
              "True"
            ]
          },
          "execution_count": 6,
          "metadata": {},
          "output_type": "execute_result"
        }
      ],
      "source": [
        "import pandas as pd\n",
        "import numpy as np\n",
        "from sklearn.feature_extraction.text import CountVectorizer, TfidfVectorizer\n",
        "from sklearn.model_selection import train_test_split, GridSearchCV\n",
        "from sklearn.metrics import accuracy_score, recall_score, precision_score, classification_report, confusion_matrix\n",
        "from sklearn.pipeline import Pipeline\n",
        "from sklearn.svm import SVC\n",
        "from sklearn.naive_bayes import MultinomialNB\n",
        "from sklearn.linear_model import LogisticRegression\n",
        "from nltk.stem import WordNetLemmatizer\n",
        "from nltk.tokenize import word_tokenize\n",
        "from nltk.corpus import stopwords\n",
        "import nltk\n",
        "\n",
        "# Ensure the necessary NLTK datasets are downloaded\n",
        "nltk.download('punkt')\n",
        "nltk.download('wordnet')\n",
        "nltk.download('stopwords')"
      ]
    },
    {
      "cell_type": "code",
      "execution_count": null,
      "id": "82a50a29",
      "metadata": {
        "id": "82a50a29"
      },
      "outputs": [],
      "source": [
        "def run_experiment(dataframe, text_column, label_column, experiment_config, grid_search_configs):\n",
        "    results = []\n",
        "    confusion_matrices = {}\n",
        "\n",
        "    # Preprocess text based on experiment_config\n",
        "    lemmatize = experiment_config['preprocessing']\n",
        "    dataframe['processed_text'] = dataframe[text_column].apply(lambda x: preprocess_text(x, lemmatize=lemmatize))\n",
        "\n",
        "    # Identify the grid search configuration for the classifier in experiment_config\n",
        "    classifier_name = experiment_config['classifier'].__class__.__name__\n",
        "    grid_search_config = next((config for config in grid_search_configs if config['classifier_name'] == classifier_name), None)\n",
        "\n",
        "    if grid_search_config:\n",
        "        # Modify the pipeline to include vectorization as specified in experiment_config\n",
        "        vec_cond = experiment_config['vectorizer_condition']\n",
        "        pipeline = Pipeline([\n",
        "            ('tfidf', TfidfVectorizer(stop_words='english', ngram_range=vec_cond)),\n",
        "            (classifier_name, experiment_config['classifier'])\n",
        "        ])\n",
        "\n",
        "        # Update param_grid to respect the current vectorizer condition\n",
        "        param_grid = {**grid_search_config['param_grid'], 'tfidf__ngram_range': [vec_cond]}\n",
        "\n",
        "        # Conduct grid search\n",
        "        print(f\"Running grid search for {classifier_name}\")\n",
        "        grid_search = GridSearchCV(pipeline, param_grid, cv=5, verbose=2, n_jobs=-1)\n",
        "        grid_search.fit(dataframe['processed_text'], dataframe[label_column])\n",
        "        best_params = grid_search.best_params_\n",
        "        print(f\"Best parameters for {classifier_name}: {best_params}\")\n",
        "\n",
        "        # Train/test split\n",
        "        X_train, X_test, y_train, y_test = train_test_split(dataframe['processed_text'], dataframe[label_column], test_size=0.3, random_state=42)\n",
        "\n",
        "        # Reconfigure pipeline with best parameters for retraining\n",
        "        best_pipeline = Pipeline([\n",
        "            ('tfidf', TfidfVectorizer(stop_words='english', **{k.replace('tfidf__', ''): v for k, v in best_params.items() if 'tfidf__' in k})),\n",
        "            (classifier_name, grid_search.best_estimator_.named_steps[classifier_name])\n",
        "        ])\n",
        "\n",
        "        # Retrain on X_train and y_train\n",
        "        print(\"Retraining model with best parameters on training set...\")\n",
        "        best_pipeline.fit(X_train, y_train)\n",
        "\n",
        "        y_pred = best_pipeline.predict(X_test)\n",
        "\n",
        "        # Calculate metrics and confusion matrix\n",
        "        accuracy = accuracy_score(y_test, y_pred)\n",
        "        recall = recall_score(y_test, y_pred, zero_division=0)\n",
        "        precision = precision_score(y_test, y_pred, zero_division=0)\n",
        "        cm = confusion_matrix(y_test, y_pred)\n",
        "\n",
        "        # Store results\n",
        "        experiment_name = f\"{classifier_name}\"\n",
        "        confusion_matrices[experiment_name] = cm\n",
        "        results.append({\n",
        "            'Experiment': experiment_name,\n",
        "            'Accuracy': accuracy,\n",
        "            'Recall': recall,\n",
        "            'Precision': precision,\n",
        "            'Best Params': best_params\n",
        "        })\n",
        "    else:\n",
        "        print(f\"No grid search configuration found for {classifier_name}\")\n",
        "\n",
        "    return pd.DataFrame(results), confusion_matrices"
      ]
    },
    {
      "cell_type": "code",
      "execution_count": null,
      "id": "6dbd2886",
      "metadata": {
        "id": "6dbd2886"
      },
      "outputs": [],
      "source": [
        "grid_search_configs = [\n",
        "    {\n",
        "        'classifier_name': 'SVC',\n",
        "        'classifier': SVC(),\n",
        "        'param_grid': {\n",
        "            'tfidf__ngram_range': [(1, 1), (1, 2)],\n",
        "            'SVC__C': [0.1, 1, 10],\n",
        "            'SVC__kernel': ['linear', 'rbf', 'poly'],\n",
        "            #'SVC__gamma': ['scale', 'auto', 0.1, 1, 10],  # Optional for exploration, can be computational intensive\n",
        "            #'SVC__coef0': [0.0, 0.5, 1.0]\n",
        "        }\n",
        "    },\n",
        "    {\n",
        "        'classifier_name': 'MultinomialNB',\n",
        "        'classifier': MultinomialNB(),\n",
        "        'param_grid': {\n",
        "            'tfidf__ngram_range': [(1, 1), (1, 2)],\n",
        "            'tfidf__max_df': [0.5, 0.75, 1.0],\n",
        "            'tfidf__min_df': [1, 2, 3],\n",
        "            'tfidf__max_features': [None, 5000, 10000],\n",
        "            'MultinomialNB__alpha': [0.1, 1.0, 10.0]\n",
        "        }\n",
        "    }\n",
        "]\n",
        "\n",
        "experiment_configs = [\n",
        "    # Preprocessing with Lemmatization\n",
        "    {'preprocessing': True, 'vectorizer_condition': (1, 1), 'classifier': MultinomialNB()},\n",
        "    {'preprocessing': True, 'vectorizer_condition': (1, 3), 'classifier': MultinomialNB()},\n",
        "    {'preprocessing': True, 'vectorizer_condition': (2, 2), 'classifier': MultinomialNB()},\n",
        "\n",
        "    # Preprocessing without Lemmatization\n",
        "    {'preprocessing': False, 'vectorizer_condition': (1, 1), 'classifier': MultinomialNB()},\n",
        "    {'preprocessing': False, 'vectorizer_condition': (1, 3), 'classifier': MultinomialNB()},\n",
        "    {'preprocessing': False, 'vectorizer_condition': (2, 2), 'classifier': MultinomialNB()},\n",
        "\n",
        "    # Assuming a second classifier is also MultinomialNB, repeat the same configurations\n",
        "    # Preprocessing with Lemmatization\n",
        "    {'preprocessing': True, 'vectorizer_condition': (1, 1), 'classifier': SVC()},\n",
        "    {'preprocessing': True, 'vectorizer_condition': (1, 3), 'classifier': SVC()},\n",
        "    {'preprocessing': True, 'vectorizer_condition': (2, 2), 'classifier': SVC()},\n",
        "\n",
        "    # Preprocessing without Lemmatization\n",
        "    {'preprocessing': False, 'vectorizer_condition': (1, 1), 'classifier': SVC()},\n",
        "    {'preprocessing': False, 'vectorizer_condition': (1, 3), 'classifier': SVC()},\n",
        "    {'preprocessing': False, 'vectorizer_condition': (2, 2), 'classifier': SVC()},\n",
        "]"
      ]
    },
    {
      "cell_type": "code",
      "execution_count": null,
      "id": "0d650f25",
      "metadata": {
        "id": "0d650f25",
        "outputId": "ada3e26f-5619-4f8e-eb15-1aff0eb7fad4"
      },
      "outputs": [
        {
          "name": "stdout",
          "output_type": "stream",
          "text": [
            "Running grid search for MultinomialNB\n",
            "Fitting 5 folds for each of 81 candidates, totalling 405 fits\n",
            "Best parameters for MultinomialNB: {'MultinomialNB__alpha': 0.1, 'tfidf__max_df': 1.0, 'tfidf__max_features': 10000, 'tfidf__min_df': 2, 'tfidf__ngram_range': (1, 1)}\n"
          ]
        }
      ],
      "source": [
        "results_df, confusion_matrices = run_experiment(df2, 'text', 'fraudulent', experiment_configs[0], grid_search_configs)\n"
      ]
    },
    {
      "cell_type": "code",
      "execution_count": null,
      "id": "8aa824ce",
      "metadata": {
        "id": "8aa824ce",
        "outputId": "f621bf89-0ad4-4666-b46e-6477441f22ff"
      },
      "outputs": [
        {
          "data": {
            "text/html": [
              "<div>\n",
              "<style scoped>\n",
              "    .dataframe tbody tr th:only-of-type {\n",
              "        vertical-align: middle;\n",
              "    }\n",
              "\n",
              "    .dataframe tbody tr th {\n",
              "        vertical-align: top;\n",
              "    }\n",
              "\n",
              "    .dataframe thead th {\n",
              "        text-align: right;\n",
              "    }\n",
              "</style>\n",
              "<table border=\"1\" class=\"dataframe\">\n",
              "  <thead>\n",
              "    <tr style=\"text-align: right;\">\n",
              "      <th></th>\n",
              "      <th>Experiment</th>\n",
              "      <th>Accuracy</th>\n",
              "      <th>Recall</th>\n",
              "      <th>Precision</th>\n",
              "      <th>Best Params</th>\n",
              "    </tr>\n",
              "  </thead>\n",
              "  <tbody>\n",
              "    <tr>\n",
              "      <th>0</th>\n",
              "      <td>MultinomialNB</td>\n",
              "      <td>0.982478</td>\n",
              "      <td>0.666667</td>\n",
              "      <td>0.907895</td>\n",
              "      <td>{'MultinomialNB__alpha': 0.1, 'tfidf__max_df': 1.0, 'tfidf__max_features': 10000, 'tfidf__min_df': 2, 'tfidf__ngram_range': (1, 1)}</td>\n",
              "    </tr>\n",
              "  </tbody>\n",
              "</table>\n",
              "</div>"
            ],
            "text/plain": [
              "      Experiment  Accuracy    Recall  Precision  \\\n",
              "0  MultinomialNB  0.982478  0.666667   0.907895   \n",
              "\n",
              "                                                                                                                           Best Params  \n",
              "0  {'MultinomialNB__alpha': 0.1, 'tfidf__max_df': 1.0, 'tfidf__max_features': 10000, 'tfidf__min_df': 2, 'tfidf__ngram_range': (1, 1)}  "
            ]
          },
          "execution_count": 33,
          "metadata": {},
          "output_type": "execute_result"
        }
      ],
      "source": [
        "pd.set_option('display.max_colwidth', None)\n",
        "results_df"
      ]
    },
    {
      "cell_type": "code",
      "execution_count": null,
      "id": "da1090af",
      "metadata": {
        "id": "da1090af",
        "outputId": "d55ea9ba-b068-45db-f9a1-32a3b79108d7"
      },
      "outputs": [
        {
          "data": {
            "text/plain": [
              "{'MultinomialNB': array([[4516,   14],\n",
              "        [  69,  138]], dtype=int64)}"
            ]
          },
          "execution_count": 34,
          "metadata": {},
          "output_type": "execute_result"
        }
      ],
      "source": [
        "confusion_matrices"
      ]
    },
    {
      "cell_type": "code",
      "execution_count": null,
      "id": "3633792f",
      "metadata": {
        "id": "3633792f",
        "outputId": "bbf8de01-5e00-4f5a-cabe-2e9e519cfc0e"
      },
      "outputs": [
        {
          "name": "stdout",
          "output_type": "stream",
          "text": [
            "Running grid search for MultinomialNB\n",
            "Fitting 5 folds for each of 81 candidates, totalling 405 fits\n",
            "Best parameters for MultinomialNB: {'MultinomialNB__alpha': 0.1, 'tfidf__max_df': 0.5, 'tfidf__max_features': None, 'tfidf__min_df': 2, 'tfidf__ngram_range': (1, 3)}\n"
          ]
        }
      ],
      "source": [
        "results_df2, confusion_matrices2 = run_experiment(df2, 'text', 'fraudulent', experiment_configs[1], grid_search_configs)"
      ]
    },
    {
      "cell_type": "code",
      "execution_count": null,
      "id": "d9308469",
      "metadata": {
        "id": "d9308469",
        "outputId": "65a54fe2-7d26-42bf-edca-a88db82e2c2c"
      },
      "outputs": [
        {
          "data": {
            "text/html": [
              "<div>\n",
              "<style scoped>\n",
              "    .dataframe tbody tr th:only-of-type {\n",
              "        vertical-align: middle;\n",
              "    }\n",
              "\n",
              "    .dataframe tbody tr th {\n",
              "        vertical-align: top;\n",
              "    }\n",
              "\n",
              "    .dataframe thead th {\n",
              "        text-align: right;\n",
              "    }\n",
              "</style>\n",
              "<table border=\"1\" class=\"dataframe\">\n",
              "  <thead>\n",
              "    <tr style=\"text-align: right;\">\n",
              "      <th></th>\n",
              "      <th>Experiment</th>\n",
              "      <th>Accuracy</th>\n",
              "      <th>Recall</th>\n",
              "      <th>Precision</th>\n",
              "      <th>Best Params</th>\n",
              "    </tr>\n",
              "  </thead>\n",
              "  <tbody>\n",
              "    <tr>\n",
              "      <th>0</th>\n",
              "      <td>MultinomialNB</td>\n",
              "      <td>0.9867</td>\n",
              "      <td>0.772947</td>\n",
              "      <td>0.909091</td>\n",
              "      <td>{'MultinomialNB__alpha': 0.1, 'tfidf__max_df': 0.5, 'tfidf__max_features': None, 'tfidf__min_df': 2, 'tfidf__ngram_range': (1, 3)}</td>\n",
              "    </tr>\n",
              "  </tbody>\n",
              "</table>\n",
              "</div>"
            ],
            "text/plain": [
              "      Experiment  Accuracy    Recall  Precision  \\\n",
              "0  MultinomialNB    0.9867  0.772947   0.909091   \n",
              "\n",
              "                                                                                                                          Best Params  \n",
              "0  {'MultinomialNB__alpha': 0.1, 'tfidf__max_df': 0.5, 'tfidf__max_features': None, 'tfidf__min_df': 2, 'tfidf__ngram_range': (1, 3)}  "
            ]
          },
          "execution_count": 36,
          "metadata": {},
          "output_type": "execute_result"
        }
      ],
      "source": [
        "results_df2"
      ]
    },
    {
      "cell_type": "code",
      "execution_count": null,
      "id": "9d9d6813",
      "metadata": {
        "id": "9d9d6813",
        "outputId": "7b6c05c9-f87b-4717-840f-27d44905f552"
      },
      "outputs": [
        {
          "data": {
            "text/plain": [
              "{'MultinomialNB': array([[4514,   16],\n",
              "        [  47,  160]], dtype=int64)}"
            ]
          },
          "execution_count": 37,
          "metadata": {},
          "output_type": "execute_result"
        }
      ],
      "source": [
        "confusion_matrices2"
      ]
    },
    {
      "cell_type": "code",
      "execution_count": null,
      "id": "0617336b",
      "metadata": {
        "id": "0617336b",
        "outputId": "abce15f5-02e2-4836-cb44-9e95ac748e54"
      },
      "outputs": [
        {
          "name": "stdout",
          "output_type": "stream",
          "text": [
            "Running grid search for MultinomialNB\n",
            "Fitting 5 folds for each of 81 candidates, totalling 405 fits\n"
          ]
        }
      ],
      "source": [
        "results_df3, confusion_matrices3 = run_experiment(df2, 'text', 'fraudulent', experiment_configs[2], grid_search_configs)"
      ]
    },
    {
      "cell_type": "code",
      "execution_count": null,
      "id": "b1b65bb9",
      "metadata": {
        "id": "b1b65bb9"
      },
      "outputs": [],
      "source": []
    }
  ],
  "metadata": {
    "colab": {
      "provenance": []
    },
    "kernelspec": {
      "display_name": "base",
      "language": "python",
      "name": "python3"
    },
    "language_info": {
      "codemirror_mode": {
        "name": "ipython",
        "version": 3
      },
      "file_extension": ".py",
      "mimetype": "text/x-python",
      "name": "python",
      "nbconvert_exporter": "python",
      "pygments_lexer": "ipython3",
      "version": "3.11.5"
    }
  },
  "nbformat": 4,
  "nbformat_minor": 5
}